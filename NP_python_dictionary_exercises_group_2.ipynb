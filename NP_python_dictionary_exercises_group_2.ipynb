{
  "nbformat": 4,
  "nbformat_minor": 0,
  "metadata": {
    "colab": {
      "provenance": [],
      "include_colab_link": true
    },
    "kernelspec": {
      "name": "python3",
      "display_name": "Python 3"
    },
    "language_info": {
      "name": "python"
    }
  },
  "cells": [
    {
      "cell_type": "markdown",
      "metadata": {
        "id": "view-in-github",
        "colab_type": "text"
      },
      "source": [
        "<a href=\"https://colab.research.google.com/github/dorisdong888/Python_Practise/blob/main/python_dictionary_exercises_group_2.ipynb\" target=\"_parent\"><img src=\"https://colab.research.google.com/assets/colab-badge.svg\" alt=\"Open In Colab\"/></a>"
      ]
    },
    {
      "cell_type": "markdown",
      "source": [
        "## **Python Dictionary Exercises**\n",
        "\n",
        "> Indented block\n",
        "\n"
      ],
      "metadata": {
        "id": "t_RWfsSFADQM"
      }
    },
    {
      "cell_type": "markdown",
      "source": [
        "Participants: Andrae, Doris, Ranjani, Jose, Zhirong, Mostafa, Ildi"
      ],
      "metadata": {
        "id": "B3EaNnaxAMrN"
      }
    },
    {
      "cell_type": "code",
      "execution_count": null,
      "metadata": {
        "colab": {
          "base_uri": "https://localhost:8080/"
        },
        "id": "AxYcX53PACKC",
        "outputId": "2a2c590b-3392-4f09-a122-7fa6da33431a"
      },
      "outputs": [
        {
          "output_type": "stream",
          "name": "stdout",
          "text": [
            "{'I': 'Ildi', 'A': 'Andrae', 'R': 'Ranjani', 'J': 'Jose', 'D': 'Doris', 'Z': 'Zhirong', 'M': 'Mostafa'}\n"
          ]
        }
      ],
      "source": [
        "#Q1 Create a dictionary for all participants in the JDA program.\n",
        "#Keys should be the first letter in their names, Values should be their names.\n",
        "#[Hint] dic={\"l\":(Leul),\"J\":(Jerry,Jainam)........}\n",
        "\n",
        "my_dict = {'I': 'Ildi', 'A': 'Andrae', 'R': 'Ranjani', 'J': 'Jose', 'D': 'Doris', 'Z': 'Zhirong', 'M': 'Mostafa'}\n",
        "print(my_dict)"
      ]
    },
    {
      "cell_type": "code",
      "source": [
        "#Q2 What are the keys of your dictionary\n",
        "my_dict.keys()"
      ],
      "metadata": {
        "colab": {
          "base_uri": "https://localhost:8080/"
        },
        "id": "KeFVnlYDAgHn",
        "outputId": "9fbdca18-62f6-4a6f-9265-4c65f0f80cf3"
      },
      "execution_count": null,
      "outputs": [
        {
          "output_type": "execute_result",
          "data": {
            "text/plain": [
              "dict_keys(['I', 'A', 'R', 'J', 'D', 'Z', 'M'])"
            ]
          },
          "metadata": {},
          "execution_count": 5
        }
      ]
    },
    {
      "cell_type": "code",
      "source": [
        "#Q3 What are the values of your dictionary\n",
        "my_dict.values()\n",
        "print(my_dict.values())"
      ],
      "metadata": {
        "colab": {
          "base_uri": "https://localhost:8080/"
        },
        "id": "P3rvF7WWB_w0",
        "outputId": "e2e96e19-effa-4e38-80a4-92a191a6b20f"
      },
      "execution_count": null,
      "outputs": [
        {
          "output_type": "stream",
          "name": "stdout",
          "text": [
            "dict_values(['Ildi', 'Andrae', 'Ranjani', 'Jose', 'Doris', 'Zhirong', 'Mostafa'])\n"
          ]
        }
      ]
    },
    {
      "cell_type": "code",
      "source": [
        "#Q4 Find participant's names that start with J,I,M,C,A\n",
        "\n",
        "#solution1\n",
        "letters = ['J', 'I', 'M', 'C', 'A']\n",
        "for key in my_dict:\n",
        "    if key[0] in letters:\n",
        "        print(my_dict[key])\n",
        "\n",
        "#solution2\n",
        "letters = ['J', 'I', 'M', 'C', 'A']\n",
        "names = []\n",
        "\n",
        "for key, value in my_dict.items():\n",
        "    if key[0] in letters:\n",
        "        names.append(value)\n",
        "        \n",
        "print(names)"
      ],
      "metadata": {
        "colab": {
          "base_uri": "https://localhost:8080/"
        },
        "id": "ALT8_DFRCDae",
        "outputId": "b91bc398-b5f8-4353-e0a8-276c2a79a718"
      },
      "execution_count": null,
      "outputs": [
        {
          "output_type": "stream",
          "name": "stdout",
          "text": [
            "Ildi\n",
            "Andrae\n",
            "Jose\n",
            "Mostafa\n",
            "['Ildi', 'Andrae', 'Jose', 'Mostafa']\n"
          ]
        }
      ]
    },
    {
      "cell_type": "code",
      "source": [
        "#Q5 Add the following to your dictionary\n",
        "# Key<(K,PD)>, Value<(Kristina)>\n",
        "\n",
        "my_dict[\"K,PD\"]=\"Kristina\"\n",
        "print(my_dict)"
      ],
      "metadata": {
        "colab": {
          "base_uri": "https://localhost:8080/"
        },
        "id": "WugVsp3NCsaE",
        "outputId": "c2318f70-5065-478e-f090-beb1780140e5"
      },
      "execution_count": null,
      "outputs": [
        {
          "output_type": "stream",
          "name": "stdout",
          "text": [
            "{'I': 'Ildi', 'A': 'Andrae', 'R': 'Ranjani', 'J': 'Jose', 'D': 'Doris', 'Z': 'Zhirong', 'M': 'Mostafa', 'K,PD': 'Kristina'}\n"
          ]
        }
      ]
    },
    {
      "cell_type": "code",
      "source": [
        "#Q6 Find the length of your dictionary\n",
        "print(len(my_dict))"
      ],
      "metadata": {
        "colab": {
          "base_uri": "https://localhost:8080/"
        },
        "id": "LLfkIS_NFGtD",
        "outputId": "2e6dcc18-ef96-4b79-a32e-fac082c34b5a"
      },
      "execution_count": null,
      "outputs": [
        {
          "output_type": "stream",
          "name": "stdout",
          "text": [
            "8\n"
          ]
        }
      ]
    },
    {
      "cell_type": "code",
      "source": [
        "#Q7 Add the following to your dictionary\n",
        "# Key<(S,Instructor)>, Value<(Sarah)>\n",
        "my_dict[\"S, Instructor\"] =  \"Sarah\"\n",
        "print(my_dict)"
      ],
      "metadata": {
        "colab": {
          "base_uri": "https://localhost:8080/"
        },
        "id": "qA8XDLg5FbLN",
        "outputId": "86b7d745-7204-4593-aaf5-a495c72389f8"
      },
      "execution_count": null,
      "outputs": [
        {
          "output_type": "stream",
          "name": "stdout",
          "text": [
            "{'I': 'Ildi', 'A': 'Andrae', 'R': 'Ranjani', 'J': 'Jose', 'D': 'Doris', 'Z': 'Zhirong', 'M': 'Mostafa', 'K,PD': 'Kristina', 'S, Instructor': 'Sarah'}\n"
          ]
        }
      ]
    },
    {
      "cell_type": "code",
      "source": [
        "#Q8 Find the length of your dictionary\n",
        "len(my_dict)"
      ],
      "metadata": {
        "colab": {
          "base_uri": "https://localhost:8080/"
        },
        "id": "jcZlfeTSFmA-",
        "outputId": "615aff10-5884-490a-9e2f-baf953ce5e48"
      },
      "execution_count": null,
      "outputs": [
        {
          "output_type": "execute_result",
          "data": {
            "text/plain": [
              "9"
            ]
          },
          "metadata": {},
          "execution_count": 26
        }
      ]
    },
    {
      "cell_type": "code",
      "source": [
        "#Q7 Delete the following keys from your dictionary\n",
        "#Key<(S,Instructor)>\n",
        "#Key<J>\n",
        "del my_dict[\"S, Instructor\"]\n",
        "#print(my_dict)\n",
        "\n",
        "del my_dict[\"J\"]\n",
        "print(my_dict)"
      ],
      "metadata": {
        "colab": {
          "base_uri": "https://localhost:8080/"
        },
        "id": "wJn2iw9oF1-V",
        "outputId": "0d854030-f143-4cfe-80cd-0f8ed1ff8f34"
      },
      "execution_count": null,
      "outputs": [
        {
          "output_type": "stream",
          "name": "stdout",
          "text": [
            "{'I': 'Ildi', 'A': 'Andrae', 'R': 'Ranjani', 'D': 'Doris', 'Z': 'Zhirong', 'M': 'Mostafa', 'K,PD': 'Kristina'}\n"
          ]
        }
      ]
    },
    {
      "cell_type": "code",
      "source": [
        "#Q9 Find the length of your dictionary\n",
        "print(len(my_dict))"
      ],
      "metadata": {
        "colab": {
          "base_uri": "https://localhost:8080/"
        },
        "id": "kUUol3z4G5-F",
        "outputId": "e4ce142d-4c4a-4515-c0c6-c7d6e04f8cf7"
      },
      "execution_count": null,
      "outputs": [
        {
          "output_type": "stream",
          "name": "stdout",
          "text": [
            "7\n"
          ]
        }
      ]
    },
    {
      "cell_type": "code",
      "source": [
        "#Q10 Create a new dictionary called synonyms_dic\n",
        "synonyms_dic = {}\n",
        "print(synonyms_dic)\n"
      ],
      "metadata": {
        "colab": {
          "base_uri": "https://localhost:8080/"
        },
        "id": "ig94OThKG-6B",
        "outputId": "8b88da7d-44a8-420f-c49d-154696270d1e"
      },
      "execution_count": null,
      "outputs": [
        {
          "output_type": "stream",
          "name": "stdout",
          "text": [
            "{}\n"
          ]
        }
      ]
    },
    {
      "cell_type": "code",
      "source": [
        "#Q11 Add the synonyms of the following words to your dictionary\n",
        "#Bad, Good, Awesome, Cold, Easy, Hard, Big, Small\n",
        "synonyms_dic = {\"Bad\": \"worse\", \"Good\":\"great\", \"Awesome\":\"wacky\", \"Cold\":\"freezing\", \"Easy\":\"pz\", \"Hard\":\"difficult\", \"Big\":\"over-sized\",\"Small\":\"Undersized\"}\n",
        "print(synonyms_dic)"
      ],
      "metadata": {
        "colab": {
          "base_uri": "https://localhost:8080/"
        },
        "id": "o3eBOhKPHxiS",
        "outputId": "cda13bdc-3262-47bb-d1c0-82bbf78678db"
      },
      "execution_count": null,
      "outputs": [
        {
          "output_type": "stream",
          "name": "stdout",
          "text": [
            "{'Bad': 'worse', 'Good': 'great', 'Awesome': 'wacky', 'Cold': 'freezing', 'Easy': 'pz', 'Hard': 'difficult', 'Big': 'over-sized', 'Small': 'Undersized'}\n"
          ]
        }
      ]
    },
    {
      "cell_type": "code",
      "source": [
        "#Q12 Use your dictionary to find the synonym of the following words\n",
        "# Awesome, Easy, Small, Old\n",
        "\n",
        "word_list = [\"Awesome\", \"Easy\", \"Small\", \"Old\"]\n",
        "\n",
        "for word in word_list:\n",
        "    if word in synonyms_dic:\n",
        "        print(f\"The synonym of '{word}' is '{synonyms_dic[word]}'\")\n",
        "    else:\n",
        "        print(f\"No synonym found for '{word}'\")\n",
        "\n",
        "#Another Solution\n",
        "#print(synonyms_dic.get(\"Awesome\"))\n",
        "#print(synonyms_dic.get(\"Easy\"))\n",
        "#print(synonyms_dic.get(\"Small\"))\n",
        "#print(synonyms_dic.get(\"Old\"))"
      ],
      "metadata": {
        "colab": {
          "base_uri": "https://localhost:8080/"
        },
        "id": "MdaUdm8QIVZr",
        "outputId": "a84fec6c-a292-43d3-cdef-df404a2872f6"
      },
      "execution_count": null,
      "outputs": [
        {
          "output_type": "stream",
          "name": "stdout",
          "text": [
            "The synonym of 'Awesome' is 'wacky'\n",
            "The synonym of 'Easy' is 'pz'\n",
            "The synonym of 'Small' is 'Undersized'\n",
            "No synonym found for 'Old'\n"
          ]
        }
      ]
    },
    {
      "cell_type": "code",
      "source": [
        "#Q13 Delete everything from synonyms_dic\n",
        "\n",
        "synonyms_dic.clear()"
      ],
      "metadata": {
        "id": "6ECQi5CtJqiS"
      },
      "execution_count": null,
      "outputs": []
    },
    {
      "cell_type": "code",
      "source": [
        "#Q14 Print all values in synonyms_dic\n",
        "print(synonyms_dic)"
      ],
      "metadata": {
        "colab": {
          "base_uri": "https://localhost:8080/"
        },
        "id": "sa3vlVo_J7mS",
        "outputId": "542e4c28-a99a-4787-9f4e-225de86a4f2e"
      },
      "execution_count": null,
      "outputs": [
        {
          "output_type": "stream",
          "name": "stdout",
          "text": [
            "{}\n"
          ]
        }
      ]
    },
    {
      "cell_type": "code",
      "source": [
        "#Q15 Convert the below two lists into dictionary\n",
        "Keys=[\"True\",\"False\"]\n",
        "Values=[1,0]\n",
        "\n",
        "new_dict = {Keys[0]:Values[0], Keys[1]:Values[1]}\n",
        "print(new_dict)\n",
        "\n",
        "#Alternative solution 1\n",
        "#new_dict = dict(zip(Keys,Values))\n",
        "#print(new_dict)\n",
        "\n",
        "#Alternative solution 2\n",
        "#dictionary = {Keys[i]: Values[i] for i in range(len(Keys))}\n"
      ],
      "metadata": {
        "colab": {
          "base_uri": "https://localhost:8080/"
        },
        "id": "S4YFC4-CKFhv",
        "outputId": "6110e0eb-7c2f-4314-82c7-8b72d64c7866"
      },
      "execution_count": null,
      "outputs": [
        {
          "output_type": "stream",
          "name": "stdout",
          "text": [
            "{'True': 1, 'False': 0}\n"
          ]
        }
      ]
    },
    {
      "cell_type": "code",
      "source": [
        "#Q16 Sum all the values in the following dictionary\n",
        "income={'Jan':1000,'Feb':1500,'Mar':980,'April':1000}\n",
        "total_income = sum(income.values())\n",
        "print(total_income)"
      ],
      "metadata": {
        "colab": {
          "base_uri": "https://localhost:8080/"
        },
        "id": "nlP5umz6KUim",
        "outputId": "e2724bb8-4eae-4d30-d260-088f6ac7263b"
      },
      "execution_count": null,
      "outputs": [
        {
          "output_type": "stream",
          "name": "stdout",
          "text": [
            "4480\n"
          ]
        }
      ]
    },
    {
      "cell_type": "code",
      "source": [
        "#Q17 Create the following dictionary encryption={10:\"hungry\", 101:\"am\", 1001:\"want\",1101:\"food\",110:\"I\",1011:\"and\", 11011:\"now\"}\n",
        "# What should be the decryption of the following code \"110 101 10 1011 110 10011\"\n",
        "\n",
        "#Solution 1\n",
        "#encryption={10:\"hungry\", 101:\"am\", 1001:\"want\",1101:\"food\",110:\"I\",1011:\"and\", 11011:\"now\"}\n",
        "#keys = [ 110, 101, 10, 1011, 110, 1001, 1101, 11011]\n",
        "#print(encryption)\n",
        "\n",
        "encryption={10:\"hungry\", 101:\"am\", 1001:\"want\", 1101:\"food\", 110:\"I\", 1011:\"and\", 11011:\"now\"}\n",
        "keys = [110, 101, 10, 1011, 110, 1001, 1101, 11011]\n",
        "\n",
        "message = \"\" # creates a string with 0 characters\n",
        "\n",
        "for key in keys: #  is a for loop that iterates through each element in the keys list.\n",
        "    message += encryption[key] + \" \" # adding space after each word\n",
        "\n",
        "print(message)\n",
        "\n",
        "#Another Solution\n",
        "#for key in keys:\n",
        "#print(\"encryption word of {} is\".format(key) + \" \" + encryption[key])\n"
      ],
      "metadata": {
        "colab": {
          "base_uri": "https://localhost:8080/"
        },
        "id": "v314waDiLx5F",
        "outputId": "e9e2907f-832a-4a7f-cfa7-a921634791a5"
      },
      "execution_count": null,
      "outputs": [
        {
          "output_type": "stream",
          "name": "stdout",
          "text": [
            "I am hungry and I want food now \n"
          ]
        }
      ]
    },
    {
      "cell_type": "code",
      "source": [
        "#Q7 Check if \"Bashir\" is in the list\n",
        "\"Bashir\" in pps_L"
      ],
      "metadata": {
        "colab": {
          "base_uri": "https://localhost:8080/"
        },
        "id": "APLYjapUcT8G",
        "outputId": "4bf145ec-287f-47e0-8a87-d116118f5b0b"
      },
      "execution_count": null,
      "outputs": [
        {
          "output_type": "execute_result",
          "data": {
            "text/plain": [
              "False"
            ]
          },
          "metadata": {},
          "execution_count": 99
        }
      ]
    },
    {
      "cell_type": "code",
      "source": [
        "#Q9 Add \"Bashir\" to your list\n",
        "pps_L.append(\"Bashir\")\n",
        "pps_L"
      ],
      "metadata": {
        "colab": {
          "base_uri": "https://localhost:8080/"
        },
        "id": "oTDcO8JAcWUO",
        "outputId": "a7004a76-c342-4eda-f247-c7922e93588c"
      },
      "execution_count": null,
      "outputs": [
        {
          "output_type": "execute_result",
          "data": {
            "text/plain": [
              "['Abdul Wahid Khudayar',\n",
              " 'Addy Rose',\n",
              " 'Anuoluwapo Oluseyi',\n",
              " 'Aravindh Kuppusamy Haridoss',\n",
              " 'Carlo Halnin',\n",
              " 'Juned Chhiboo',\n",
              " 'Cici Ann Joji',\n",
              " 'DHRUVKUMAR PATEL',\n",
              " 'Erkan Kumesogut',\n",
              " 'Exaltacao Rodrigues',\n",
              " 'fatma tuncalan',\n",
              " 'harpreet kaur',\n",
              " 'Harun Omar-Godane',\n",
              " 'Hossain Ghahraloud',\n",
              " 'Jesso Thomas',\n",
              " 'Kamiar Mehmannavazan',\n",
              " 'Karthik Sai',\n",
              " 'Kwabena Gyasi-Boateng',\n",
              " 'L Reetika',\n",
              " 'mariya amtullah',\n",
              " 'Marwa Musa',\n",
              " 'Meelad Armani',\n",
              " 'Miguel Diaz',\n",
              " 'Mohammad Dabbour',\n",
              " 'Pouria Raziei',\n",
              " 'Reena Thakur',\n",
              " 'Robin Francis Thomas',\n",
              " 'Rohan Thomas',\n",
              " 'Ronit Soni',\n",
              " 'Sameeha Bala',\n",
              " 'Supriya Kanda',\n",
              " 'Weslie Chung',\n",
              " 'Ying Fei Li',\n",
              " 'Poojan Modi',\n",
              " 'Alexander Hailu',\n",
              " 'Ekaterina Shalygina',\n",
              " 'Nevin Tomy',\n",
              " 'Jason Huang',\n",
              " 'Anindita',\n",
              " 'Vrunda Patel',\n",
              " 'Sravan Pingali',\n",
              " 'Sarah',\n",
              " 'Bashir']"
            ]
          },
          "metadata": {},
          "execution_count": 100
        }
      ]
    },
    {
      "cell_type": "code",
      "source": [
        "#Q10 Find the index of the element \"Sarah\" in the list\n",
        "pps_L.index(\"Sarah\")"
      ],
      "metadata": {
        "colab": {
          "base_uri": "https://localhost:8080/"
        },
        "id": "QqwVpmMLcY4r",
        "outputId": "73082f79-7799-47d6-d6dd-ec8feb2fb60f"
      },
      "execution_count": null,
      "outputs": [
        {
          "output_type": "execute_result",
          "data": {
            "text/plain": [
              "41"
            ]
          },
          "metadata": {},
          "execution_count": 101
        }
      ]
    },
    {
      "cell_type": "code",
      "source": [
        "#Q11 Change the value of the index in Q10 from \"Sarah\" to \"Instructor\"\n",
        "pps_L[41]=\"Instructor\"\n",
        "print(\"Instructor\" in pps_L)\n",
        "pps_L.index(\"Instructor\")"
      ],
      "metadata": {
        "colab": {
          "base_uri": "https://localhost:8080/"
        },
        "id": "MVuEu0TKcayx",
        "outputId": "70269e57-eb28-43a2-dd05-1756fdf0bdc8"
      },
      "execution_count": null,
      "outputs": [
        {
          "output_type": "stream",
          "name": "stdout",
          "text": [
            "True\n"
          ]
        },
        {
          "output_type": "execute_result",
          "data": {
            "text/plain": [
              "41"
            ]
          },
          "metadata": {},
          "execution_count": 102
        }
      ]
    },
    {
      "cell_type": "code",
      "source": [
        "#Q12 Find the index of the element \"Bashir\" in the list\n",
        "pps_L.index(\"Bashir\")"
      ],
      "metadata": {
        "colab": {
          "base_uri": "https://localhost:8080/"
        },
        "id": "7KwyNPwQcdRr",
        "outputId": "e18b4ce3-4d39-4a98-f23f-865ce7dc277f"
      },
      "execution_count": null,
      "outputs": [
        {
          "output_type": "execute_result",
          "data": {
            "text/plain": [
              "42"
            ]
          },
          "metadata": {},
          "execution_count": 103
        }
      ]
    },
    {
      "cell_type": "code",
      "source": [
        "#Q13 Change the value of the index in Q12 from \"Bashir\" to \"Peer-Mentor\"\n",
        "pps_L[42]=\"Peer-Mentor\"\n",
        "print(\"Peer-Mentor\" in pps_L)\n",
        "pps_L.index(\"Peer-Mentor\")"
      ],
      "metadata": {
        "colab": {
          "base_uri": "https://localhost:8080/"
        },
        "id": "7ULD-0p1cnwT",
        "outputId": "61cca7d2-9888-4236-fa90-c0df7497fbae"
      },
      "execution_count": null,
      "outputs": [
        {
          "output_type": "stream",
          "name": "stdout",
          "text": [
            "True\n"
          ]
        },
        {
          "output_type": "execute_result",
          "data": {
            "text/plain": [
              "42"
            ]
          },
          "metadata": {},
          "execution_count": 104
        }
      ]
    },
    {
      "cell_type": "markdown",
      "source": [
        "## **Python Tuple Exercises**\n"
      ],
      "metadata": {
        "id": "kdOjBbFDdCXX"
      }
    },
    {
      "cell_type": "code",
      "source": [
        "#Q1 Create myTuple tuple with the follwoing values (\"NPower\",\"JDA\",\"Tuesday\",30,31,2021)\n",
        "\n",
        "myTuple = (\"NPower\",\"JDA\",\"Tuesday\",30,3,2021)\n",
        "myTuple"
      ],
      "metadata": {
        "colab": {
          "base_uri": "https://localhost:8080/"
        },
        "id": "vakA-PsSdFjP",
        "outputId": "e60c70ff-9470-41bd-defa-0d56e7dddae3"
      },
      "execution_count": null,
      "outputs": [
        {
          "output_type": "execute_result",
          "data": {
            "text/plain": [
              "('NPower', 'JDA', 'Tuesday', 30, 3, 2021)"
            ]
          },
          "metadata": {},
          "execution_count": 105
        }
      ]
    },
    {
      "cell_type": "code",
      "source": [
        "#Q2 What is the type of myTuple\n",
        "print(type(myTuple))"
      ],
      "metadata": {
        "colab": {
          "base_uri": "https://localhost:8080/"
        },
        "id": "LKhtrYNSdIJU",
        "outputId": "b90bd8e1-317a-4d94-9536-cd597fe2019a"
      },
      "execution_count": null,
      "outputs": [
        {
          "output_type": "stream",
          "name": "stdout",
          "text": [
            "<class 'tuple'>\n"
          ]
        }
      ]
    },
    {
      "cell_type": "code",
      "source": [
        "#Q3 What is the length of myTuple\n",
        "print(len(myTuple))"
      ],
      "metadata": {
        "colab": {
          "base_uri": "https://localhost:8080/"
        },
        "id": "_aNMZGRCdKBr",
        "outputId": "f12203e7-77ea-458d-e4b7-0126900b513a"
      },
      "execution_count": null,
      "outputs": [
        {
          "output_type": "stream",
          "name": "stdout",
          "text": [
            "6\n"
          ]
        }
      ]
    },
    {
      "cell_type": "code",
      "source": [
        "#Q4 print the values in each index #Use regular indexing\n",
        "print(myTuple[:6])"
      ],
      "metadata": {
        "colab": {
          "base_uri": "https://localhost:8080/"
        },
        "id": "SU1k6U8jdYz5",
        "outputId": "9dd49749-cbe0-4459-ed36-5b08a7f07a50"
      },
      "execution_count": null,
      "outputs": [
        {
          "output_type": "stream",
          "name": "stdout",
          "text": [
            "('NPower', 'JDA', 'Tuesday', 30, 3, 2021)\n"
          ]
        }
      ]
    },
    {
      "cell_type": "code",
      "source": [
        "#Q5 print the values in each index #Use negative indexing \n",
        "print(myTuple[-7:-1])"
      ],
      "metadata": {
        "colab": {
          "base_uri": "https://localhost:8080/"
        },
        "id": "TChCKiM4dduF",
        "outputId": "189c3f0a-0b16-43f0-d9ee-f7d9dcfd73c9"
      },
      "execution_count": null,
      "outputs": [
        {
          "output_type": "stream",
          "name": "stdout",
          "text": [
            "('NPower', 'JDA', 'Tuesday', 30, 3)\n"
          ]
        }
      ]
    },
    {
      "cell_type": "code",
      "source": [
        "#Q6 what is the type of each value\n",
        "res = list(map(type, myTuple))\n",
        "res"
      ],
      "metadata": {
        "colab": {
          "base_uri": "https://localhost:8080/"
        },
        "id": "SkbTPIgpdk51",
        "outputId": "9d7cf6e4-f559-4150-c4c0-97d8fbd59b4e"
      },
      "execution_count": null,
      "outputs": [
        {
          "output_type": "execute_result",
          "data": {
            "text/plain": [
              "[str, str, str, int, int, int]"
            ]
          },
          "metadata": {},
          "execution_count": 110
        }
      ]
    },
    {
      "cell_type": "code",
      "source": [
        "#Q7 unpack myTuple in the follwoeing variables name,program,dayName,month,day,year\n",
        "# print the variables \n",
        "(name,program,dayName,month,day,year)=myTuple\n",
        "print(name)\n",
        "print(program)\n",
        "print(dayName)\n",
        "print(month)\n",
        "print(day)\n",
        "print(year)"
      ],
      "metadata": {
        "colab": {
          "base_uri": "https://localhost:8080/"
        },
        "id": "-Fwp6kv9fH4C",
        "outputId": "6ceee215-8871-4a60-dc0c-803569029612"
      },
      "execution_count": null,
      "outputs": [
        {
          "output_type": "stream",
          "name": "stdout",
          "text": [
            "NPower\n",
            "JDA\n",
            "Tuesday\n",
            "30\n",
            "3\n",
            "2021\n"
          ]
        }
      ]
    },
    {
      "cell_type": "code",
      "source": [
        "#Q8 unpack myTuple2 in the follwoeing variables name,program,dayName.\n",
        "# What will happen to variables (name,program,dayName) and (month,day,year)"
      ],
      "metadata": {
        "id": "M68jREEAfmM2"
      },
      "execution_count": null,
      "outputs": []
    },
    {
      "cell_type": "code",
      "source": [
        "# Note the following\n",
        "Tuple1=(\"Jerry\",2,89) #This is a tuple with 3 elements\n",
        "Tuple2=(\"Ulan\",)#This is a tuple with 1 element\n",
        "test=\"Leul\" #This is a VARIABLE with string value\n",
        "a,b,c=Tuple1\n",
        "print(\"Type a\",type(a))\n",
        "print(a,b,c)\n",
        "d=Tuple2\n",
        "print(type(d))\n",
        "print(d)\n",
        "e=test\n",
        "print(e)"
      ],
      "metadata": {
        "colab": {
          "base_uri": "https://localhost:8080/"
        },
        "id": "2DaSWtIZfziT",
        "outputId": "a76189c3-52e1-4966-a4c4-dbf0060dd270"
      },
      "execution_count": null,
      "outputs": [
        {
          "output_type": "stream",
          "name": "stdout",
          "text": [
            "Type a <class 'str'>\n",
            "Jerry 2 89\n",
            "<class 'tuple'>\n",
            "('Ulan',)\n",
            "Leul\n"
          ]
        }
      ]
    },
    {
      "cell_type": "code",
      "source": [
        "#Tuples are immutable\n",
        "#we can always make the testTuple variable reference a new tuple in the memory\n",
        "#and hold a different information\n",
        "testTuple=(1,2,3)\n",
        "print(testTuple)\n",
        "testTuple=(4,5,6)\n",
        "print(testTuple)\n",
        "#But we can't change or edit a value for the existing tuple\n",
        "testTuple[0]=6 #ERROR 'tuple' object does not support item assignment"
      ],
      "metadata": {
        "colab": {
          "base_uri": "https://localhost:8080/",
          "height": 235
        },
        "id": "PE1pUOchf0Ok",
        "outputId": "a83ebe1c-2e8c-4236-905b-b2e0a7938219"
      },
      "execution_count": null,
      "outputs": [
        {
          "output_type": "stream",
          "name": "stdout",
          "text": [
            "(1, 2, 3)\n",
            "(4, 5, 6)\n"
          ]
        },
        {
          "output_type": "error",
          "ename": "TypeError",
          "evalue": "ignored",
          "traceback": [
            "\u001b[0;31m---------------------------------------------------------------------------\u001b[0m",
            "\u001b[0;31mTypeError\u001b[0m                                 Traceback (most recent call last)",
            "\u001b[0;32m<ipython-input-113-855a10251bdc>\u001b[0m in \u001b[0;36m<module>\u001b[0;34m\u001b[0m\n\u001b[1;32m      7\u001b[0m \u001b[0mprint\u001b[0m\u001b[0;34m(\u001b[0m\u001b[0mtestTuple\u001b[0m\u001b[0;34m)\u001b[0m\u001b[0;34m\u001b[0m\u001b[0;34m\u001b[0m\u001b[0m\n\u001b[1;32m      8\u001b[0m \u001b[0;31m#But we can't change or edit a value for the existing tuple\u001b[0m\u001b[0;34m\u001b[0m\u001b[0;34m\u001b[0m\u001b[0;34m\u001b[0m\u001b[0m\n\u001b[0;32m----> 9\u001b[0;31m \u001b[0mtestTuple\u001b[0m\u001b[0;34m[\u001b[0m\u001b[0;36m0\u001b[0m\u001b[0;34m]\u001b[0m\u001b[0;34m=\u001b[0m\u001b[0;36m6\u001b[0m \u001b[0;31m#ERROR 'tuple' object does not support item assignment\u001b[0m\u001b[0;34m\u001b[0m\u001b[0;34m\u001b[0m\u001b[0m\n\u001b[0m",
            "\u001b[0;31mTypeError\u001b[0m: 'tuple' object does not support item assignment"
          ]
        }
      ]
    },
    {
      "cell_type": "code",
      "source": [
        "#Q9 Reverse myTuple, output should looks like (2021,3,30,\"Tuesday\",\"JDA\",\"NPower\")\n",
        "myTuple[::-1]"
      ],
      "metadata": {
        "colab": {
          "base_uri": "https://localhost:8080/"
        },
        "id": "tASs7iirf2ML",
        "outputId": "d9eb1203-1fb1-4730-cd97-5ce768128dd0"
      },
      "execution_count": null,
      "outputs": [
        {
          "output_type": "execute_result",
          "data": {
            "text/plain": [
              "(2021, 3, 30, 'Tuesday', 'JDA', 'NPower')"
            ]
          },
          "metadata": {},
          "execution_count": 114
        }
      ]
    },
    {
      "cell_type": "code",
      "source": [
        "#Q10 Create nestedTuple=((\"Coursera\",\"course\",6),(\"week\",(2,\"Lists\",\"Tuple\")))\n",
        "A=(\"Coursera\",\"course\",6)\n",
        "B=(\"week\")\n",
        "C=(2,\"Lists\",\"Tuple\")\n",
        "\n",
        "nestedTuple = (A, B, C)\n",
        "nestedTuple"
      ],
      "metadata": {
        "colab": {
          "base_uri": "https://localhost:8080/"
        },
        "id": "jIbNdvMHf728",
        "outputId": "616869a3-8386-442b-a504-0d900b092919"
      },
      "execution_count": null,
      "outputs": [
        {
          "output_type": "execute_result",
          "data": {
            "text/plain": [
              "(('Coursera', 'course', 6), 'week', (2, 'Lists', 'Tuple'))"
            ]
          },
          "metadata": {},
          "execution_count": 115
        }
      ]
    },
    {
      "cell_type": "code",
      "source": [
        "#Q11 What is the output of nestedTuple[1:2]\n",
        "nestedTuple[1:2]"
      ],
      "metadata": {
        "colab": {
          "base_uri": "https://localhost:8080/"
        },
        "id": "ph529sazgESC",
        "outputId": "9a162ca7-e5df-4bc1-bcba-2f2b6e2f659c"
      },
      "execution_count": null,
      "outputs": [
        {
          "output_type": "execute_result",
          "data": {
            "text/plain": [
              "('week',)"
            ]
          },
          "metadata": {},
          "execution_count": 116
        }
      ]
    },
    {
      "cell_type": "code",
      "source": [
        "#Q12 print each element in the nestedTuple\n",
        "nestedTuple"
      ],
      "metadata": {
        "colab": {
          "base_uri": "https://localhost:8080/"
        },
        "id": "XHLiTECLghRG",
        "outputId": "3e760de7-e1ac-490d-8761-d7cb5782261b"
      },
      "execution_count": null,
      "outputs": [
        {
          "output_type": "execute_result",
          "data": {
            "text/plain": [
              "(('Coursera', 'course', 6), 'week', (2, 'Lists', 'Tuple'))"
            ]
          },
          "metadata": {},
          "execution_count": 117
        }
      ]
    },
    {
      "cell_type": "code",
      "source": [
        "#Q13 Access (2,\"Lists\",\"Tuple\") from nestedTuple\n",
        "nestedTuple[2]"
      ],
      "metadata": {
        "colab": {
          "base_uri": "https://localhost:8080/"
        },
        "id": "za3XrF6Agiwa",
        "outputId": "8a4da720-0932-4248-b8df-7ada5813be19"
      },
      "execution_count": null,
      "outputs": [
        {
          "output_type": "execute_result",
          "data": {
            "text/plain": [
              "(2, 'Lists', 'Tuple')"
            ]
          },
          "metadata": {},
          "execution_count": 118
        }
      ]
    },
    {
      "cell_type": "code",
      "source": [
        "#Q14 Access the value \"Lists\" from nestedTuple\n",
        "nestedTuple[2][1]"
      ],
      "metadata": {
        "colab": {
          "base_uri": "https://localhost:8080/",
          "height": 35
        },
        "id": "FgDPjAHugkns",
        "outputId": "c4f3b03d-e695-4072-f5a1-5fa4bb695a10"
      },
      "execution_count": null,
      "outputs": [
        {
          "output_type": "execute_result",
          "data": {
            "text/plain": [
              "'Lists'"
            ],
            "application/vnd.google.colaboratory.intrinsic+json": {
              "type": "string"
            }
          },
          "metadata": {},
          "execution_count": 119
        }
      ]
    },
    {
      "cell_type": "code",
      "source": [
        "#Q15 Access the value \"Tuple\" from nestedTuple\n",
        "nestedTuple[2][2]"
      ],
      "metadata": {
        "colab": {
          "base_uri": "https://localhost:8080/",
          "height": 35
        },
        "id": "r0l1BzsKgmOU",
        "outputId": "a445d290-e173-4fa1-d4a9-1d96831defa6"
      },
      "execution_count": null,
      "outputs": [
        {
          "output_type": "execute_result",
          "data": {
            "text/plain": [
              "'Tuple'"
            ],
            "application/vnd.google.colaboratory.intrinsic+json": {
              "type": "string"
            }
          },
          "metadata": {},
          "execution_count": 120
        }
      ]
    },
    {
      "cell_type": "code",
      "source": [
        "#Q16 Access the value \"course\" from nestedTuple\n",
        "nestedTuple[0][1]"
      ],
      "metadata": {
        "colab": {
          "base_uri": "https://localhost:8080/",
          "height": 35
        },
        "id": "JACtzu-fgnoN",
        "outputId": "e8c85d26-004b-4924-fe58-aa86c52ac602"
      },
      "execution_count": null,
      "outputs": [
        {
          "output_type": "execute_result",
          "data": {
            "text/plain": [
              "'course'"
            ],
            "application/vnd.google.colaboratory.intrinsic+json": {
              "type": "string"
            }
          },
          "metadata": {},
          "execution_count": 121
        }
      ]
    },
    {
      "cell_type": "code",
      "source": [
        "#Q17 Concatenate myTuple with nestedTuple\n",
        "myTuple=myTuple+nestedTuple\n",
        "myTuple"
      ],
      "metadata": {
        "colab": {
          "base_uri": "https://localhost:8080/"
        },
        "id": "4f_-48YLgo1k",
        "outputId": "b4152826-e336-4a7b-cf38-8c1ccb363691"
      },
      "execution_count": null,
      "outputs": [
        {
          "output_type": "execute_result",
          "data": {
            "text/plain": [
              "('NPower',\n",
              " 'JDA',\n",
              " 'Tuesday',\n",
              " 30,\n",
              " 3,\n",
              " 2021,\n",
              " ('Coursera', 'course', 6),\n",
              " 'week',\n",
              " (2, 'Lists', 'Tuple'))"
            ]
          },
          "metadata": {},
          "execution_count": 122
        }
      ]
    },
    {
      "cell_type": "code",
      "source": [
        "#Q18 add your name to the tuple\n",
        "name=(('Kowcika'))\n",
        "newTuple=(myTuple,name)\n",
        "newTuple"
      ],
      "metadata": {
        "colab": {
          "base_uri": "https://localhost:8080/"
        },
        "id": "ASJ-HMsIgqa2",
        "outputId": "161cb1d9-d87a-4fb8-c686-ef74dc2f896d"
      },
      "execution_count": null,
      "outputs": [
        {
          "output_type": "execute_result",
          "data": {
            "text/plain": [
              "(('NPower',\n",
              "  'JDA',\n",
              "  'Tuesday',\n",
              "  30,\n",
              "  3,\n",
              "  2021,\n",
              "  ('Coursera', 'course', 6),\n",
              "  'week',\n",
              "  (2, 'Lists', 'Tuple')),\n",
              " 'Kowcika')"
            ]
          },
          "metadata": {},
          "execution_count": 123
        }
      ]
    },
    {
      "cell_type": "code",
      "source": [
        "#Q19 check whether Coursera exists within myTuple\n",
        "# NOTE \"in\" doesn't work properly with nested tuples"
      ],
      "metadata": {
        "id": "_NFlhEU3gs_g"
      },
      "execution_count": null,
      "outputs": []
    },
    {
      "cell_type": "code",
      "source": [
        "#Q20 check whether 55 exists within testTuple\n",
        "testTuple=(1,2,33,55,6,55)\n",
        "number=55\n",
        "for number in testTuple:\n",
        "     print(\"Number exists\")\n",
        "     break;"
      ],
      "metadata": {
        "colab": {
          "base_uri": "https://localhost:8080/"
        },
        "id": "F4r5C_SPgzxl",
        "outputId": "922a3d47-f4a2-40c5-9ac7-11604503b072"
      },
      "execution_count": null,
      "outputs": [
        {
          "output_type": "stream",
          "name": "stdout",
          "text": [
            "Number exists\n"
          ]
        }
      ]
    },
    {
      "cell_type": "code",
      "source": [
        "#Q21 Find the index of JDA in newTuple\n",
        "# Find the index of 'Coursera' in newTuple\n",
        "# NOTE index doesn't work properly with nested tuples # Wrong output\n",
        "newTuple.index('JDA')\n",
        "newTuple.index('Coursera')"
      ],
      "metadata": {
        "colab": {
          "base_uri": "https://localhost:8080/",
          "height": 217
        },
        "id": "oRbZ_Fm2g0LR",
        "outputId": "965098f6-ecbe-476e-b9bf-a02cf810430e"
      },
      "execution_count": null,
      "outputs": [
        {
          "output_type": "error",
          "ename": "ValueError",
          "evalue": "ignored",
          "traceback": [
            "\u001b[0;31m---------------------------------------------------------------------------\u001b[0m",
            "\u001b[0;31mValueError\u001b[0m                                Traceback (most recent call last)",
            "\u001b[0;32m<ipython-input-125-a1cd5b10f574>\u001b[0m in \u001b[0;36m<module>\u001b[0;34m\u001b[0m\n\u001b[1;32m      2\u001b[0m \u001b[0;31m# Find the index of 'Coursera' in newTuple\u001b[0m\u001b[0;34m\u001b[0m\u001b[0;34m\u001b[0m\u001b[0;34m\u001b[0m\u001b[0m\n\u001b[1;32m      3\u001b[0m \u001b[0;31m# NOTE index doesn't work properly with nested tuples # Wrong output\u001b[0m\u001b[0;34m\u001b[0m\u001b[0;34m\u001b[0m\u001b[0;34m\u001b[0m\u001b[0m\n\u001b[0;32m----> 4\u001b[0;31m \u001b[0mnewTuple\u001b[0m\u001b[0;34m.\u001b[0m\u001b[0mindex\u001b[0m\u001b[0;34m(\u001b[0m\u001b[0;34m'JDA'\u001b[0m\u001b[0;34m)\u001b[0m\u001b[0;34m\u001b[0m\u001b[0;34m\u001b[0m\u001b[0m\n\u001b[0m\u001b[1;32m      5\u001b[0m \u001b[0mnewTuple\u001b[0m\u001b[0;34m.\u001b[0m\u001b[0mindex\u001b[0m\u001b[0;34m(\u001b[0m\u001b[0;34m'Coursera'\u001b[0m\u001b[0;34m)\u001b[0m\u001b[0;34m\u001b[0m\u001b[0;34m\u001b[0m\u001b[0m\n",
            "\u001b[0;31mValueError\u001b[0m: tuple.index(x): x not in tuple"
          ]
        }
      ]
    },
    {
      "cell_type": "code",
      "source": [
        "#Q22 print index 8 from newTuple\n",
        "newTuple[8]"
      ],
      "metadata": {
        "colab": {
          "base_uri": "https://localhost:8080/",
          "height": 183
        },
        "id": "nQ_D55mUg2ed",
        "outputId": "f4266aad-fe2c-473b-db95-f163786b15bd"
      },
      "execution_count": null,
      "outputs": [
        {
          "output_type": "error",
          "ename": "IndexError",
          "evalue": "ignored",
          "traceback": [
            "\u001b[0;31m---------------------------------------------------------------------------\u001b[0m",
            "\u001b[0;31mIndexError\u001b[0m                                Traceback (most recent call last)",
            "\u001b[0;32m<ipython-input-126-97576e783ad1>\u001b[0m in \u001b[0;36m<module>\u001b[0;34m\u001b[0m\n\u001b[1;32m      1\u001b[0m \u001b[0;31m#Q22 print index 8 from newTuple\u001b[0m\u001b[0;34m\u001b[0m\u001b[0;34m\u001b[0m\u001b[0;34m\u001b[0m\u001b[0m\n\u001b[0;32m----> 2\u001b[0;31m \u001b[0mnewTuple\u001b[0m\u001b[0;34m[\u001b[0m\u001b[0;36m8\u001b[0m\u001b[0;34m]\u001b[0m\u001b[0;34m\u001b[0m\u001b[0;34m\u001b[0m\u001b[0m\n\u001b[0m",
            "\u001b[0;31mIndexError\u001b[0m: tuple index out of range"
          ]
        }
      ]
    },
    {
      "cell_type": "code",
      "source": [
        "#Q23 Get the 4th element from the begining of myTuple and 4th element from last \n",
        "print(newTuple[0][3])\n",
        "print(newTuple[0][8][0])"
      ],
      "metadata": {
        "colab": {
          "base_uri": "https://localhost:8080/"
        },
        "id": "ljMuRYPAg5uP",
        "outputId": "3aebdc7a-b629-4852-bc8c-dcdfdcda952d"
      },
      "execution_count": null,
      "outputs": [
        {
          "output_type": "stream",
          "name": "stdout",
          "text": [
            "30\n",
            "2\n"
          ]
        }
      ]
    },
    {
      "cell_type": "code",
      "source": [
        "#Q24 Find how many times 55 appeared in testTuple [Hint: Use method count()]\n",
        "testTuple.count(55)"
      ],
      "metadata": {
        "colab": {
          "base_uri": "https://localhost:8080/"
        },
        "id": "vKR8stVJg7Yh",
        "outputId": "522909cb-05df-4fc1-8999-cd14f46d74a8"
      },
      "execution_count": null,
      "outputs": [
        {
          "output_type": "execute_result",
          "data": {
            "text/plain": [
              "2"
            ]
          },
          "metadata": {},
          "execution_count": 128
        }
      ]
    },
    {
      "cell_type": "code",
      "source": [],
      "metadata": {
        "id": "ufvCfaV9g9OK"
      },
      "execution_count": null,
      "outputs": []
    }
  ]
}
