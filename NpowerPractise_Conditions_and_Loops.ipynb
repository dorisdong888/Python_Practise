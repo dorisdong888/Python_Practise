{
  "cells": [
    {
      "cell_type": "markdown",
      "metadata": {
        "id": "view-in-github",
        "colab_type": "text"
      },
      "source": [
        "<a href=\"https://colab.research.google.com/github/dorisdong888/Python_Practise/blob/main/NpowerPractise_Conditions_and_Loops.ipynb\" target=\"_parent\"><img src=\"https://colab.research.google.com/assets/colab-badge.svg\" alt=\"Open In Colab\"/></a>"
      ]
    },
    {
      "cell_type": "code",
      "execution_count": null,
      "id": "b98c8d37",
      "metadata": {
        "id": "b98c8d37"
      },
      "outputs": [],
      "source": [
        "#Q1 Given two integer numbers. If any of the numbers are greater than 50 return t\n",
        "#number1=20\n",
        "#number2=40\n",
        "\n"
      ]
    },
    {
      "cell_type": "code",
      "execution_count": null,
      "id": "8dc01c08",
      "metadata": {
        "id": "8dc01c08"
      },
      "outputs": [],
      "source": [
        "#Q2 Given a list of numbers, return True if first and last number of a list is same\n",
        "#list=[1,2,5,4,1]\n",
        "\n",
        "#list1=[1,2,5,4,1]\n"
      ]
    },
    {
      "cell_type": "code",
      "execution_count": null,
      "id": "2147a300",
      "metadata": {
        "id": "2147a300"
      },
      "outputs": [],
      "source": [
        "#Q3 Given a range of the first 10 numbers[1:10], Iterate from the start number to last number\n",
        "#and In each iteration print the sum of the current number and previous number\n"
      ]
    },
    {
      "cell_type": "code",
      "execution_count": null,
      "id": "abca75e3",
      "metadata": {
        "id": "abca75e3"
      },
      "outputs": [],
      "source": [
        "#Q4 Given a string name, display only those characters which are present at an ev\n",
        "#name=\"NPowerCanada\"\n"
      ]
    },
    {
      "cell_type": "code",
      "execution_count": null,
      "id": "7329779c",
      "metadata": {
        "id": "7329779c"
      },
      "outputs": [],
      "source": [
        "#Q5 Given a string oldString and an integer number n,\n",
        "#remove characters from a string starting from zero up to n and return a newStrin\n",
        "# oldString=\"PythonCourse\"\n",
        "#n=6\n"
      ]
    },
    {
      "cell_type": "code",
      "execution_count": null,
      "id": "ae2d102b",
      "metadata": {
        "id": "ae2d102b"
      },
      "outputs": [],
      "source": [
        "#Q6 Print the follwoing pattern\n",
        "#*\n",
        "#**\n",
        "#***\n",
        "#****\n"
      ]
    },
    {
      "cell_type": "code",
      "execution_count": null,
      "id": "67e31603",
      "metadata": {
        "id": "67e31603"
      },
      "outputs": [],
      "source": [
        "#Q7 Reverse the following list using for loop\n",
        "#list1=[90,70,50,60]\n",
        "\n",
        "\n"
      ]
    },
    {
      "cell_type": "code",
      "execution_count": null,
      "id": "fb58abb6",
      "metadata": {
        "id": "fb58abb6"
      },
      "outputs": [],
      "source": [
        "#Q8 Display numbers from -10 to -1 using for loop [hint use range method]\n"
      ]
    }
  ],
  "metadata": {
    "kernelspec": {
      "display_name": "Python 3",
      "language": "python",
      "name": "python3"
    },
    "language_info": {
      "codemirror_mode": {
        "name": "ipython",
        "version": 3
      },
      "file_extension": ".py",
      "mimetype": "text/x-python",
      "name": "python",
      "nbconvert_exporter": "python",
      "pygments_lexer": "ipython3",
      "version": "3.8.8"
    },
    "colab": {
      "provenance": [],
      "include_colab_link": true
    }
  },
  "nbformat": 4,
  "nbformat_minor": 5
}