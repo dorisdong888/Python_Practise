{
  "nbformat": 4,
  "nbformat_minor": 0,
  "metadata": {
    "colab": {
      "provenance": [],
      "authorship_tag": "ABX9TyP/M4nWD7K85VX1b0sAFreq",
      "include_colab_link": true
    },
    "kernelspec": {
      "name": "python3",
      "display_name": "Python 3"
    },
    "language_info": {
      "name": "python"
    }
  },
  "cells": [
    {
      "cell_type": "markdown",
      "metadata": {
        "id": "view-in-github",
        "colab_type": "text"
      },
      "source": [
        "<a href=\"https://colab.research.google.com/github/dorisdong888/Python_Practise/blob/main/Extracting_Stock_Data_Practise.ipynb\" target=\"_parent\"><img src=\"https://colab.research.google.com/assets/colab-badge.svg\" alt=\"Open In Colab\"/></a>"
      ]
    },
    {
      "cell_type": "code",
      "execution_count": null,
      "metadata": {
        "id": "yW9mMNqjYxYJ"
      },
      "outputs": [],
      "source": [
        "!pip install yfinance==0.2.4\n",
        "!pip install pandas==1.3.3"
      ]
    },
    {
      "cell_type": "code",
      "source": [
        "import yfinance as yf\n",
        "import pandas as pd"
      ],
      "metadata": {
        "id": "DCFxyrMGZUIM"
      },
      "execution_count": null,
      "outputs": []
    },
    {
      "cell_type": "code",
      "source": [
        "#Using the yfinance Library to Extract Stock Data\n",
        "#Using the Ticker module\n",
        "#the company is Apple and the ticker symbol is AAPL\n",
        "#represent here https://aroussi.com/post/python-yahoo-finance.\n",
        "apple = yf.Ticker(\"AAPL\")"
      ],
      "metadata": {
        "id": "-jnTsHb4ZUnN"
      },
      "execution_count": null,
      "outputs": []
    },
    {
      "cell_type": "code",
      "source": [
        "!wget https://cf-courses-data.s3.us.cloud-object-storage.appdomain.cloud/IBMDeveloperSkillsNetwork-PY0220EN-SkillsNetwork/data/apple.json"
      ],
      "metadata": {
        "id": "YviOMv_XZ7Ub"
      },
      "execution_count": null,
      "outputs": []
    },
    {
      "cell_type": "code",
      "source": [
        "#Using the attribute info we can extract information about the stock as a Python dictionary.\n",
        "import json\n",
        "with open('apple.json') as json_file:\n",
        "    apple_info = json.load(json_file)\n",
        "    # Print the type of data variable    \n",
        "    #print(\"Type:\", type(apple_info))\n",
        "apple_info"
      ],
      "metadata": {
        "id": "2-0O68fUZ7_b"
      },
      "execution_count": null,
      "outputs": []
    },
    {
      "cell_type": "code",
      "source": [
        "#We can get the 'country' using the key country\n",
        "apple_info['country']"
      ],
      "metadata": {
        "id": "STP33Wfoat2O"
      },
      "execution_count": null,
      "outputs": []
    },
    {
      "cell_type": "code",
      "source": [
        "#the period parameter we can set how far back from the present to get data. \n",
        "#The options for period are 1 day (1d), 5d, 1 month (1mo) , 3mo, 6mo, 1 year (1y), 2y, 5y, 10y, ytd, and max\n",
        "apple_share_price_data = apple.history(period=\"max\")\n",
        "#The format that the data is returned in is a Pandas DataFrame"
      ],
      "metadata": {
        "id": "1yApUNtta9Qz"
      },
      "execution_count": null,
      "outputs": []
    },
    {
      "cell_type": "code",
      "source": [
        "apple_share_price_data.head()"
      ],
      "metadata": {
        "id": "MXx05_HzbanO"
      },
      "execution_count": null,
      "outputs": []
    },
    {
      "cell_type": "code",
      "source": [
        "#We can reset the index of the DataFrame with the reset_index function. \n",
        "#We also set the inplace paramter to True so the change takes place to the DataFrame itself.\n",
        "apple_share_price_data.reset_index(inplace=True)\n",
        "#We can plot the Open price against the Date:\n",
        "apple_share_price_data.plot(x=\"Date\", y=\"Open\")"
      ],
      "metadata": {
        "id": "zArMeDWWbcUT"
      },
      "execution_count": null,
      "outputs": []
    },
    {
      "cell_type": "code",
      "source": [
        "#Extracting Dividends\n",
        "apple.dividends\n",
        "apple.dividends.plot()"
      ],
      "metadata": {
        "id": "76XrZ0n5dIP7"
      },
      "execution_count": null,
      "outputs": []
    },
    {
      "cell_type": "code",
      "source": [],
      "metadata": {
        "id": "bD5HdqRNdX1k"
      },
      "execution_count": null,
      "outputs": []
    }
  ]
}